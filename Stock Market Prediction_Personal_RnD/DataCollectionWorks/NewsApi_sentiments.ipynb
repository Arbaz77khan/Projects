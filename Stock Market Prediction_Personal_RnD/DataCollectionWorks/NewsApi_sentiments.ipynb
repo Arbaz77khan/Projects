{
 "cells": [
  {
   "cell_type": "code",
   "execution_count": 3,
   "id": "3f9ded65-6df5-4e58-9c50-417e88d221ea",
   "metadata": {},
   "outputs": [],
   "source": [
    "import requests\n",
    "import pandas as pd\n",
    "from vaderSentiment.vaderSentiment import SentimentIntensityAnalyzer\n",
    "from datetime import datetime, timedelta\n",
    "\n",
    "# Initialize VADER Sentiment Analyzer\n",
    "analyzer = SentimentIntensityAnalyzer()\n",
    "\n",
    "# News API endpoint and parameters\n",
    "api_key = '33e4d796e2b44c3eb2f547afd088edf4'\n",
    "base_url = 'https://newsapi.org/v2/everything'\n",
    "\n",
    "def fetch_news(stock_name, from_date, to_date, language='en', page_size=100):\n",
    "    params = {\n",
    "        'q': stock_name,\n",
    "        'from': from_date,\n",
    "        'to': to_date,\n",
    "        'language': language,\n",
    "        'sortBy': 'relevancy',\n",
    "        'pageSize': page_size,\n",
    "        'apiKey': api_key\n",
    "    }\n",
    "    response = requests.get(base_url, params=params)\n",
    "    articles = response.json().get('articles', [])\n",
    "    \n",
    "    data = []\n",
    "    for article in articles:\n",
    "        # Extract relevant information\n",
    "        title = article['title']\n",
    "        description = article['description']\n",
    "        published_date = article['publishedAt'][:10]  # Format YYYY-MM-DD\n",
    "        content = f\"{title} {description}\" if description else title\n",
    "        # Calculate sentiment score\n",
    "        sentiment = analyzer.polarity_scores(content)['compound']\n",
    "        data.append({'Date': published_date, 'Content': content, 'Sentiment': sentiment})\n",
    "    \n",
    "    return pd.DataFrame(data)\n",
    "\n",
    "# Example usage\n",
    "end_date = datetime.now()\n",
    "start_date = end_date - timedelta(days=7)\n",
    "news_df = fetch_news('Suzlon', start_date.strftime('%Y-%m-%d'), end_date.strftime('%Y-%m-%d'))\n",
    "news_df.head()\n",
    "news_df.to_csv('newsapi.csv')"
   ]
  },
  {
   "cell_type": "code",
   "execution_count": null,
   "id": "11fb3853-e749-4c33-a64c-82771805dc6f",
   "metadata": {},
   "outputs": [],
   "source": []
  }
 ],
 "metadata": {
  "kernelspec": {
   "display_name": "Python 3 (ipykernel)",
   "language": "python",
   "name": "python3"
  },
  "language_info": {
   "codemirror_mode": {
    "name": "ipython",
    "version": 3
   },
   "file_extension": ".py",
   "mimetype": "text/x-python",
   "name": "python",
   "nbconvert_exporter": "python",
   "pygments_lexer": "ipython3",
   "version": "3.11.5"
  }
 },
 "nbformat": 4,
 "nbformat_minor": 5
}

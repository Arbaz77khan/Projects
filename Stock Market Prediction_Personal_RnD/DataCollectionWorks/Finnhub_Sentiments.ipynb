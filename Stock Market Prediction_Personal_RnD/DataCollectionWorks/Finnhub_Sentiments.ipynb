{
 "cells": [
  {
   "cell_type": "code",
   "execution_count": 4,
   "id": "220d1202-963a-4b1d-92b9-5b677062aa2b",
   "metadata": {},
   "outputs": [
    {
     "name": "stdout",
     "output_type": "stream",
     "text": [
      "Failed to fetch sentiment data: 403\n"
     ]
    }
   ],
   "source": [
    "import requests\n",
    "\n",
    "# Your Finnhub API key\n",
    "api_key = 'csqg3bhr01qv7qe2cgc0csqg3bhr01qv7qe2cgcg'\n",
    "\n",
    "# Stock symbol (e.g., 'AAPL' for Apple)\n",
    "symbol = 'AAPL'\n",
    "\n",
    "# API URL\n",
    "url = f'https://finnhub.io/api/v1/news-sentiment?symbol={symbol}&token={api_key}'\n",
    "\n",
    "# Send GET request to fetch sentiment data\n",
    "response = requests.get(url)\n",
    "\n",
    "# Check if the request was successful\n",
    "if response.status_code == 200:\n",
    "    sentiment_data = response.json()\n",
    "    print(\"Sentiment Analysis Data:\", sentiment_data)\n",
    "else:\n",
    "    print(\"Failed to fetch sentiment data:\", response.status_code)\n"
   ]
  },
  {
   "cell_type": "code",
   "execution_count": null,
   "id": "dadd43ae-5237-4c3f-8002-e6d61063bfbe",
   "metadata": {},
   "outputs": [],
   "source": []
  }
 ],
 "metadata": {
  "kernelspec": {
   "display_name": "Python 3 (ipykernel)",
   "language": "python",
   "name": "python3"
  },
  "language_info": {
   "codemirror_mode": {
    "name": "ipython",
    "version": 3
   },
   "file_extension": ".py",
   "mimetype": "text/x-python",
   "name": "python",
   "nbconvert_exporter": "python",
   "pygments_lexer": "ipython3",
   "version": "3.11.5"
  }
 },
 "nbformat": 4,
 "nbformat_minor": 5
}

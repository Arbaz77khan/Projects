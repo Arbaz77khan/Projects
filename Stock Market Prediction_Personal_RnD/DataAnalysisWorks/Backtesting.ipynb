{
 "cells": [
  {
   "cell_type": "code",
   "execution_count": 1,
   "id": "d9250efe-5a3e-4ff7-ad10-e903b1fe5247",
   "metadata": {},
   "outputs": [],
   "source": [
    "import pandas as pd"
   ]
  },
  {
   "cell_type": "code",
   "execution_count": 2,
   "id": "3f29cde1-5e79-4556-a2e4-ee156f071e0b",
   "metadata": {},
   "outputs": [],
   "source": [
    "def backtest_signals(data, start_date=None, end_date=None):\n",
    "    \"\"\"\n",
    "    Backtests the trading signals (Buy, Sell, Hold) in the dataset over a specified time frame.\n",
    "\n",
    "    Args:\n",
    "        df (pd.DataFrame): DataFrame with stock data including 'Date', 'Close', and 'Signal'.\n",
    "        start_date (str, optional): Start date in 'YYYY-MM-DD' format. Defaults to the first date in the dataset.\n",
    "        end_date (str, optional): End date in 'YYYY-MM-DD' format. Defaults to the last date in the dataset.\n",
    "\n",
    "    Returns:\n",
    "        dict: Backtest results including total profit, accuracy, and trade log.\n",
    "    \"\"\"\n",
    "    \n",
    "    df = pd.read_csv(data)\n",
    "    \n",
    "    # Convert Date column to datetime for filtering\n",
    "    df['Date'] = pd.to_datetime(df['Date'], dayfirst=True)\n",
    "    \n",
    "    # Filter data for the specified time frame\n",
    "    if start_date:\n",
    "        df = df[df['Date'] >= pd.to_datetime(start_date)]\n",
    "    if end_date:\n",
    "        df = df[df['Date'] <= pd.to_datetime(end_date)]\n",
    "    \n",
    "    # Initialize variables\n",
    "    capital = 100000  # Starting capital\n",
    "    position = 0  # Number of shares held\n",
    "    entry_price = 0  # Price at which the position was entered\n",
    "    trades = []  # To track all trades\n",
    "\n",
    "    # Iterate through the dataset\n",
    "    for _, row in df.iterrows():\n",
    "        if row['Signal'] == 'Buy' and position == 0:\n",
    "            # Buy shares\n",
    "            position = capital // row['Close']  # Buy as many shares as possible\n",
    "            entry_price = row['Close']\n",
    "            capital -= position * entry_price\n",
    "            trades.append((row['Date'], 'Buy', entry_price, position))\n",
    "        \n",
    "        elif row['Signal'] == 'Sell' and position > 0:\n",
    "            # Sell shares\n",
    "            sell_price = row['Close']\n",
    "            capital += position * sell_price\n",
    "            profit = (sell_price - entry_price) * position\n",
    "            trades.append((row['Date'], 'Sell', sell_price, position, profit))\n",
    "            position = 0  # Reset position\n",
    "            entry_price = 0\n",
    "    \n",
    "    # Final capital including unsold holdings\n",
    "    if position > 0:\n",
    "        capital += position * df.iloc[-1]['Close']  # Sell at the last close price\n",
    "        trades.append((df.iloc[-1]['Date'], 'Final Sell', df.iloc[-1]['Close'], position))\n",
    "        position = 0\n",
    "\n",
    "    # Calculate metrics\n",
    "    total_profit = capital - 100000\n",
    "    accuracy = sum(1 for trade in trades if len(trade) > 4 and trade[4] > 0) / len(trades) if trades else 0\n",
    "    results = {\n",
    "        \"Total Profit\": total_profit,\n",
    "        \"Accuracy\": accuracy * 100,\n",
    "        \"Trade Log\": trades,\n",
    "        \"Final Capital\": capital\n",
    "    }\n",
    "    \n",
    "    return results"
   ]
  },
  {
   "cell_type": "code",
   "execution_count": 3,
   "id": "2d4895ef-ece1-47a4-b2a8-e84e5a12671c",
   "metadata": {},
   "outputs": [
    {
     "name": "stderr",
     "output_type": "stream",
     "text": [
      "C:\\Users\\Arbaz Khan\\AppData\\Local\\Temp\\ipykernel_48648\\1876049619.py:17: UserWarning: Parsing dates in %Y-%m-%d format when dayfirst=True was specified. Pass `dayfirst=False` or specify a format to silence this warning.\n",
      "  df['Date'] = pd.to_datetime(df['Date'], dayfirst=True)\n"
     ]
    }
   ],
   "source": [
    "# Example Usage\n",
    "backtest_results = backtest_signals(\n",
    "    data='D:\\Master_Folder\\Data Science Course\\Projects\\StockMarket\\stock_data/NESTLEIND.NS_2024-01-01_to_2024-11-21.csv',  # Your dataset\n",
    "    start_date='2024-01-01',  # Specify start date\n",
    "    end_date='2024-11-01'  # Specify end date\n",
    ")"
   ]
  },
  {
   "cell_type": "code",
   "execution_count": 4,
   "id": "9d803086-b6ac-44e9-b3bc-287a18dd0666",
   "metadata": {},
   "outputs": [
    {
     "name": "stdout",
     "output_type": "stream",
     "text": [
      "Backtest Results:\n",
      "Total Profit: -5122.39999999998\n",
      "Accuracy: 0.0%\n",
      "Final Capital: 94877.60000000002\n",
      "Trade Log:\n",
      "(Timestamp('2024-03-13 00:00:00'), 'Buy', 2582.95, 38.0)\n",
      "(Timestamp('2024-04-18 00:00:00'), 'Sell', 2462.55, 38.0, -4575.199999999986)\n",
      "(Timestamp('2024-06-21 00:00:00'), 'Buy', 2498.4, 38.0)\n",
      "(Timestamp('2024-08-01 00:00:00'), 'Sell', 2484.0, 38.0, -547.2000000000035)\n"
     ]
    }
   ],
   "source": [
    "# Display Results\n",
    "print(\"Backtest Results:\")\n",
    "print(f\"Total Profit: {backtest_results['Total Profit']}\")\n",
    "print(f\"Accuracy: {backtest_results['Accuracy']}%\")\n",
    "print(f\"Final Capital: {backtest_results['Final Capital']}\")\n",
    "print(\"Trade Log:\")\n",
    "for trade in backtest_results['Trade Log']:\n",
    "    print(trade)"
   ]
  },
  {
   "cell_type": "code",
   "execution_count": null,
   "id": "46efce71-5f5f-4601-b838-5ea9de156ef6",
   "metadata": {},
   "outputs": [],
   "source": []
  }
 ],
 "metadata": {
  "kernelspec": {
   "display_name": "Python 3 (ipykernel)",
   "language": "python",
   "name": "python3"
  },
  "language_info": {
   "codemirror_mode": {
    "name": "ipython",
    "version": 3
   },
   "file_extension": ".py",
   "mimetype": "text/x-python",
   "name": "python",
   "nbconvert_exporter": "python",
   "pygments_lexer": "ipython3",
   "version": "3.11.5"
  }
 },
 "nbformat": 4,
 "nbformat_minor": 5
}

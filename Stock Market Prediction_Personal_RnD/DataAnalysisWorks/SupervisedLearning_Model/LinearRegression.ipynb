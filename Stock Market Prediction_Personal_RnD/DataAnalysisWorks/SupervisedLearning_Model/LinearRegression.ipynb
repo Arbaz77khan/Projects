{
 "cells": [
  {
   "cell_type": "code",
   "execution_count": 2,
   "id": "40df0492-dd02-4891-9a3f-f9d0134b15a4",
   "metadata": {},
   "outputs": [],
   "source": [
    "import pandas as pd \n",
    "from itertools import combinations\n",
    "from sklearn.preprocessing import StandardScaler\n",
    "from sklearn.linear_model import LinearRegression\n",
    "from sklearn.metrics import mean_absolute_error, mean_squared_error, r2_score"
   ]
  },
  {
   "cell_type": "code",
   "execution_count": 3,
   "id": "a4c14858-7f2f-4245-9149-8bc17271d44a",
   "metadata": {},
   "outputs": [],
   "source": [
    "data = pd.read_csv('D:\\Master_Folder\\Data Science Course\\Projects\\StockMarket\\stock_data\\SUZLON.NS_2023-01-01_to_2024-11-21_ML.csv')"
   ]
  },
  {
   "cell_type": "code",
   "execution_count": 4,
   "id": "f4a6ddde-779f-49a8-a9b7-203f308bd8f1",
   "metadata": {},
   "outputs": [
    {
     "name": "stderr",
     "output_type": "stream",
     "text": [
      "C:\\Users\\Arbaz Khan\\AppData\\Local\\Temp\\ipykernel_28632\\1887270223.py:1: UserWarning: Parsing dates in %Y-%m-%d format when dayfirst=True was specified. Pass `dayfirst=False` or specify a format to silence this warning.\n",
      "  data['Date'] = pd.to_datetime(data['Date'], dayfirst=True)\n"
     ]
    }
   ],
   "source": [
    "data['Date'] = pd.to_datetime(data['Date'], dayfirst=True)\n",
    "data.set_index('Date', inplace=True)\n"
   ]
  },
  {
   "cell_type": "code",
   "execution_count": 5,
   "id": "dfee809b-86d4-4385-9972-24f94ad0444b",
   "metadata": {},
   "outputs": [],
   "source": [
    "data['Next_1_day_close'] = data['Close'].shift(-1)\n",
    "data.dropna(inplace=True)"
   ]
  },
  {
   "cell_type": "code",
   "execution_count": 6,
   "id": "9dab4df5-2eda-4f6d-b181-b0ffd8ece0ec",
   "metadata": {},
   "outputs": [
    {
     "data": {
      "text/html": [
       "<div>\n",
       "<style scoped>\n",
       "    .dataframe tbody tr th:only-of-type {\n",
       "        vertical-align: middle;\n",
       "    }\n",
       "\n",
       "    .dataframe tbody tr th {\n",
       "        vertical-align: top;\n",
       "    }\n",
       "\n",
       "    .dataframe thead th {\n",
       "        text-align: right;\n",
       "    }\n",
       "</style>\n",
       "<table border=\"1\" class=\"dataframe\">\n",
       "  <thead>\n",
       "    <tr style=\"text-align: right;\">\n",
       "      <th></th>\n",
       "      <th>Close</th>\n",
       "      <th>Upward_Downward_Probability</th>\n",
       "      <th>Temporal_Features</th>\n",
       "      <th>Cluster</th>\n",
       "      <th>Anomaly</th>\n",
       "      <th>Next_1_day_close</th>\n",
       "    </tr>\n",
       "    <tr>\n",
       "      <th>Date</th>\n",
       "      <th></th>\n",
       "      <th></th>\n",
       "      <th></th>\n",
       "      <th></th>\n",
       "      <th></th>\n",
       "      <th></th>\n",
       "    </tr>\n",
       "  </thead>\n",
       "  <tbody>\n",
       "    <tr>\n",
       "      <th>2023-03-14</th>\n",
       "      <td>7.95</td>\n",
       "      <td>-1.011601</td>\n",
       "      <td>1.455739</td>\n",
       "      <td>2</td>\n",
       "      <td>1</td>\n",
       "      <td>7.95</td>\n",
       "    </tr>\n",
       "    <tr>\n",
       "      <th>2023-03-15</th>\n",
       "      <td>7.95</td>\n",
       "      <td>-1.011601</td>\n",
       "      <td>1.510488</td>\n",
       "      <td>2</td>\n",
       "      <td>1</td>\n",
       "      <td>7.90</td>\n",
       "    </tr>\n",
       "    <tr>\n",
       "      <th>2023-03-16</th>\n",
       "      <td>7.90</td>\n",
       "      <td>-2.639057</td>\n",
       "      <td>1.291494</td>\n",
       "      <td>2</td>\n",
       "      <td>1</td>\n",
       "      <td>8.00</td>\n",
       "    </tr>\n",
       "    <tr>\n",
       "      <th>2023-03-17</th>\n",
       "      <td>8.00</td>\n",
       "      <td>-2.639057</td>\n",
       "      <td>1.346242</td>\n",
       "      <td>2</td>\n",
       "      <td>1</td>\n",
       "      <td>7.75</td>\n",
       "    </tr>\n",
       "    <tr>\n",
       "      <th>2023-03-20</th>\n",
       "      <td>7.75</td>\n",
       "      <td>-2.639057</td>\n",
       "      <td>1.400991</td>\n",
       "      <td>2</td>\n",
       "      <td>1</td>\n",
       "      <td>7.80</td>\n",
       "    </tr>\n",
       "  </tbody>\n",
       "</table>\n",
       "</div>"
      ],
      "text/plain": [
       "            Close  Upward_Downward_Probability  Temporal_Features  Cluster  \\\n",
       "Date                                                                         \n",
       "2023-03-14   7.95                    -1.011601           1.455739        2   \n",
       "2023-03-15   7.95                    -1.011601           1.510488        2   \n",
       "2023-03-16   7.90                    -2.639057           1.291494        2   \n",
       "2023-03-17   8.00                    -2.639057           1.346242        2   \n",
       "2023-03-20   7.75                    -2.639057           1.400991        2   \n",
       "\n",
       "            Anomaly  Next_1_day_close  \n",
       "Date                                   \n",
       "2023-03-14        1              7.95  \n",
       "2023-03-15        1              7.90  \n",
       "2023-03-16        1              8.00  \n",
       "2023-03-17        1              7.75  \n",
       "2023-03-20        1              7.80  "
      ]
     },
     "execution_count": 6,
     "metadata": {},
     "output_type": "execute_result"
    }
   ],
   "source": [
    "data.head()"
   ]
  },
  {
   "cell_type": "code",
   "execution_count": 7,
   "id": "d5c1bc94-4d32-4b9d-8a4a-8495ededcaf3",
   "metadata": {},
   "outputs": [],
   "source": [
    "def evaluate_feature_combinations(data, target_col, test_ratio=0.3):\n",
    "    result = []\n",
    "\n",
    "    features = [col for col in data.columns if col != target_col]\n",
    "    target = data[target_col]\n",
    "\n",
    "    train_size = int(len(data) * (1 - test_ratio))\n",
    "    train_data = data[:train_size]\n",
    "    test_data = data[train_size:]\n",
    "\n",
    "    x_train_full = train_data[features]\n",
    "    y_train = train_data[target_col]\n",
    "    x_test_full = test_data[features]\n",
    "    y_test = test_data[target_col]\n",
    "\n",
    "    for r in range(1, len(features) + 1):\n",
    "        for feature_subset in combinations(features, r):\n",
    "            feature_subset = list(feature_subset)\n",
    "\n",
    "            # Scale features\n",
    "            scaler = StandardScaler()\n",
    "            x_train = scaler.fit_transform(x_train_full[feature_subset])\n",
    "            x_test = scaler.transform(x_test_full[feature_subset])\n",
    "            \n",
    "            model = LinearRegression()\n",
    "            model.fit(x_train, y_train)\n",
    "\n",
    "            y_pred = model.predict(x_test)\n",
    "\n",
    "            mse = mean_squared_error(y_test, y_pred)\n",
    "            r2 = r2_score(y_test, y_pred)\n",
    "            mape = mape = (abs((y_test - y_pred) / y_test).mean()) * 100\n",
    "\n",
    "            result.append({'Features': feature_subset, 'mse': mse, 'R2': r2, 'MAPE': mape, 'Coefficient': model.coef_ , 'Intercept': model.intercept_})\n",
    "\n",
    "    sorted_results = sorted(result, key=lambda x: x['R2'], reverse=True)\n",
    "\n",
    "    return sorted_results"
   ]
  },
  {
   "cell_type": "code",
   "execution_count": 8,
   "id": "e14cdb9d-4ebe-4006-b083-a785bfa9b3bb",
   "metadata": {},
   "outputs": [],
   "source": [
    "results = evaluate_feature_combinations(data, target_col = 'Next_1_day_close')"
   ]
  },
  {
   "cell_type": "code",
   "execution_count": 11,
   "id": "1e04fd3c-cdc4-4ee5-9386-82cded17a407",
   "metadata": {},
   "outputs": [
    {
     "name": "stdout",
     "output_type": "stream",
     "text": [
      "Rank 1:\n",
      "Features: ['Close', 'Upward_Downward_Probability', 'Cluster', 'Anomaly']\n",
      "R²: 0.9739, MAPE: 2.40%, MSE: 3.7252\n",
      "Coefficient: [ 1.33587637e+01  2.48163321e-03 -4.00906832e-02 -8.50735096e-02], Intercept: 28.15103806228374\n",
      "\n",
      "Rank 2:\n",
      "Features: ['Close', 'Cluster', 'Anomaly']\n",
      "R²: 0.9739, MAPE: 2.40%, MSE: 3.7258\n",
      "Coefficient: [13.35876274 -0.0417342  -0.08503489], Intercept: 28.15103806228374\n",
      "\n",
      "Rank 3:\n",
      "Features: ['Close', 'Upward_Downward_Probability', 'Temporal_Features', 'Cluster', 'Anomaly']\n",
      "R²: 0.9739, MAPE: 2.41%, MSE: 3.7342\n",
      "Coefficient: [ 1.33571786e+01  1.33150851e-02 -3.65546634e-02 -4.60922835e-03\n",
      " -8.46135841e-02], Intercept: 28.15103806228374\n",
      "\n",
      "Rank 4:\n",
      "Features: ['Close', 'Upward_Downward_Probability', 'Temporal_Features', 'Anomaly']\n",
      "R²: 0.9738, MAPE: 2.41%, MSE: 3.7355\n",
      "Coefficient: [13.35707616  0.01535674 -0.03934329 -0.08430575], Intercept: 28.15103806228374\n",
      "\n",
      "Rank 5:\n",
      "Features: ['Close', 'Temporal_Features', 'Cluster', 'Anomaly']\n",
      "R²: 0.9738, MAPE: 2.41%, MSE: 3.7362\n",
      "Coefficient: [13.35740966 -0.03112311 -0.01763345 -0.08449976], Intercept: 28.15103806228374\n",
      "\n",
      "Rank 6:\n",
      "Features: ['Close', 'Upward_Downward_Probability', 'Anomaly']\n",
      "R²: 0.9738, MAPE: 2.40%, MSE: 3.7370\n",
      "Coefficient: [13.35915421  0.02808965 -0.07932588], Intercept: 28.15103806228374\n",
      "\n",
      "Rank 7:\n",
      "Features: ['Close', 'Temporal_Features', 'Anomaly']\n",
      "R²: 0.9738, MAPE: 2.41%, MSE: 3.7468\n",
      "Coefficient: [13.35695769 -0.04432559 -0.0823039 ], Intercept: 28.15103806228374\n",
      "\n",
      "Rank 8:\n",
      "Features: ['Close', 'Anomaly']\n",
      "R²: 0.9737, MAPE: 2.41%, MSE: 3.7584\n",
      "Coefficient: [13.35944991 -0.07394579], Intercept: 28.15103806228374\n",
      "\n",
      "Rank 9:\n",
      "Features: ['Close', 'Upward_Downward_Probability', 'Cluster']\n",
      "R²: 0.9735, MAPE: 2.42%, MSE: 3.7845\n",
      "Coefficient: [ 1.33570287e+01  2.69739775e-04 -1.89635299e-02], Intercept: 28.15103806228374\n",
      "\n",
      "Rank 10:\n",
      "Features: ['Close', 'Cluster']\n",
      "R²: 0.9735, MAPE: 2.42%, MSE: 3.7845\n",
      "Coefficient: [13.35702863 -0.01914329], Intercept: 28.15103806228374\n",
      "\n"
     ]
    }
   ],
   "source": [
    "for i, res in enumerate(results[:10], 1):\n",
    "    print(f\"Rank {i}:\")\n",
    "    print(f\"Features: {res['Features']}\")\n",
    "    print(f\"R²: {res['R2']:.4f}, MAPE: {res['MAPE']:.2f}%, MSE: {res['mse']:.4f}\")\n",
    "    print(f\"Coefficient: {res['Coefficient']}, Intercept: {res['Intercept']}\\n\")"
   ]
  },
  {
   "cell_type": "code",
   "execution_count": null,
   "id": "53fd331e-62b7-433d-bab2-d65c1c449037",
   "metadata": {},
   "outputs": [],
   "source": []
  }
 ],
 "metadata": {
  "kernelspec": {
   "display_name": "Python 3 (ipykernel)",
   "language": "python",
   "name": "python3"
  },
  "language_info": {
   "codemirror_mode": {
    "name": "ipython",
    "version": 3
   },
   "file_extension": ".py",
   "mimetype": "text/x-python",
   "name": "python",
   "nbconvert_exporter": "python",
   "pygments_lexer": "ipython3",
   "version": "3.11.5"
  }
 },
 "nbformat": 4,
 "nbformat_minor": 5
}

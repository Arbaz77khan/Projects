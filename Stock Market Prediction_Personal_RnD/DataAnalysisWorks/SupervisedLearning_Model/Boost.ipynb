{
 "cells": [
  {
   "cell_type": "code",
   "execution_count": 1,
   "id": "e88c83fc-c9b7-411c-b18e-0109c9d5a4c6",
   "metadata": {},
   "outputs": [
    {
     "name": "stderr",
     "output_type": "stream",
     "text": [
      "C:\\Users\\Arbaz Khan\\AppData\\Local\\Programs\\Python\\Python311\\Lib\\site-packages\\dask\\dataframe\\__init__.py:31: FutureWarning: \n",
      "Dask dataframe query planning is disabled because dask-expr is not installed.\n",
      "\n",
      "You can install it with `pip install dask[dataframe]` or `conda install dask`.\n",
      "This will raise in a future version.\n",
      "\n",
      "  warnings.warn(msg, FutureWarning)\n"
     ]
    }
   ],
   "source": [
    "import pandas as pd\n",
    "import numpy as np\n",
    "from sklearn.preprocessing import StandardScaler\n",
    "from sklearn.model_selection import GridSearchCV\n",
    "from xgboost import XGBRegressor\n",
    "from lightgbm import LGBMRegressor\n",
    "from catboost import CatBoostRegressor\n",
    "from sklearn.metrics import mean_squared_error, r2_score"
   ]
  },
  {
   "cell_type": "code",
   "execution_count": 2,
   "id": "d7912845-8f67-4689-b43e-1f4eb5132f06",
   "metadata": {},
   "outputs": [
    {
     "name": "stderr",
     "output_type": "stream",
     "text": [
      "C:\\Users\\Arbaz Khan\\AppData\\Local\\Temp\\ipykernel_33980\\365862942.py:3: UserWarning: Parsing dates in %Y-%m-%d format when dayfirst=True was specified. Pass `dayfirst=False` or specify a format to silence this warning.\n",
      "  data['Date'] = pd.to_datetime(data['Date'], dayfirst=True)\n"
     ]
    }
   ],
   "source": [
    "# Loading Data\n",
    "data = pd.read_csv('D:\\Master_Folder\\Data Science Course\\Projects\\StockMarket\\stock_data\\SUZLON.NS_2023-01-01_to_2024-11-21_ML.csv')\n",
    "data['Date'] = pd.to_datetime(data['Date'], dayfirst=True)\n",
    "data.set_index('Date', inplace=True)\n",
    "data['Next_1_day_close'] = data['Close'].shift(-1)\n",
    "data.dropna(inplace=True)"
   ]
  },
  {
   "cell_type": "code",
   "execution_count": 3,
   "id": "78a71c42-eabe-45e4-9a7c-fe1b42ff403a",
   "metadata": {},
   "outputs": [],
   "source": [
    "# Define features and target\n",
    "features = ['Close', 'Upward_Downward_Probability', 'Temporal_Features', 'Cluster', 'Anomaly']\n",
    "target = 'Next_1_day_close'"
   ]
  },
  {
   "cell_type": "code",
   "execution_count": 4,
   "id": "6e20cf6a-6d38-4f4c-9f58-50a61bba5cdd",
   "metadata": {},
   "outputs": [],
   "source": [
    "# Train Test Split\n",
    "train_size = int(len(data) * 0.7)\n",
    "train_data = data[:train_size]\n",
    "test_data = data[train_size:]\n",
    "\n",
    "X_train = train_data[features]\n",
    "y_train = train_data[target]\n",
    "\n",
    "X_test = test_data[features]\n",
    "y_test = test_data[target]"
   ]
  },
  {
   "cell_type": "code",
   "execution_count": 5,
   "id": "a64e3907-7927-4728-a8d9-cfdda805221c",
   "metadata": {},
   "outputs": [],
   "source": [
    "# Scale the features\n",
    "scaler = StandardScaler()\n",
    "\n",
    "X_train_scaled = scaler.fit_transform(X_train)\n",
    "X_test_scaled = scaler.transform(X_test)"
   ]
  },
  {
   "cell_type": "code",
   "execution_count": 6,
   "id": "495075d3-4cb7-49cd-a261-8a50e25258c1",
   "metadata": {},
   "outputs": [],
   "source": [
    "def train_and_evaluate_model(model, param_grid, X_train, y_train, X_test, y_test, model_name): \n",
    "    grid_search = GridSearchCV(model, param_grid, cv=3, scoring='r2', verbose=1)\n",
    "    grid_search.fit(X_train, y_train)\n",
    "\n",
    "    best_model = grid_search.best_estimator_\n",
    "    y_pred = best_model.predict(X_test)\n",
    "\n",
    "    mse = mean_squared_error(y_test, y_pred)\n",
    "    r2 = r2_score(y_test, y_pred)\n",
    "    mape = (np.abs((y_test - y_pred) / y_test).mean()) * 100\n",
    "    \n",
    "    print(f\"\\n--- {model_name} Results ---\")\n",
    "    print(\"Best Parameters:\", grid_search.best_params_)\n",
    "    print(f\"R²: {r2:.4f}\")\n",
    "    print(f\"MAPE: {mape:.2f}%\")\n",
    "    print(f\"MSE: {mse:.4f}\")\n",
    "    return best_model"
   ]
  },
  {
   "cell_type": "code",
   "execution_count": 10,
   "id": "d258e2f6-d896-4369-948f-1358b52855b1",
   "metadata": {},
   "outputs": [
    {
     "name": "stdout",
     "output_type": "stream",
     "text": [
      "Fitting 3 folds for each of 108 candidates, totalling 324 fits\n",
      "\n",
      "--- XGBoost Results ---\n",
      "Best Parameters: {'learning_rate': 1.0, 'max_depth': 3, 'n_estimators': 100, 'subsample': 0.8}\n",
      "R²: -2.0664\n",
      "MAPE: 24.42%\n",
      "MSE: 437.9451\n"
     ]
    }
   ],
   "source": [
    "# XGBoost\n",
    "\n",
    "xgb_param_grid = {'n_estimators': [50, 75, 100], 'learning_rate': [0.1, 0.2, 0.3, 1.0], 'max_depth': [3, 5, 7], 'subsample': [0.6, 0.8, 1.0]}\n",
    "xgb_model = XGBRegressor(random_state=42)\n",
    "best_xgb = train_and_evaluate_model(xgb_model, xgb_param_grid, X_train_scaled, y_train, X_test_scaled, y_test, 'XGBoost')"
   ]
  },
  {
   "cell_type": "code",
   "execution_count": 12,
   "id": "a14be69d-a5ed-4898-9a7d-933516c9ed8f",
   "metadata": {},
   "outputs": [],
   "source": [
    "# LightGBM\n",
    "# lgbm_param_grid = {\n",
    "#     'n_estimators': [50, 100, 200],\n",
    "#     'learning_rate': [0.01, 0.1, 0.2],\n",
    "#     'num_leaves': [31, 50, 100],\n",
    "#     'subsample': [0.6, 0.8, 1.0]\n",
    "# }\n",
    "# lgbm_model = LGBMRegressor(random_state=42)\n",
    "# best_lgbm = train_and_evaluate_model(lgbm_model, lgbm_param_grid, X_train_scaled, y_train, X_test_scaled, y_test, \"LightGBM\")\n"
   ]
  },
  {
   "cell_type": "code",
   "execution_count": 13,
   "id": "40acfff1-7a8a-4944-91bc-8334f339203d",
   "metadata": {},
   "outputs": [
    {
     "name": "stdout",
     "output_type": "stream",
     "text": [
      "Fitting 3 folds for each of 18 candidates, totalling 54 fits\n",
      "\n",
      "--- CatBoost Results ---\n",
      "Best Parameters: {'depth': 4, 'iterations': 500, 'learning_rate': 0.1}\n",
      "R²: -4.4861\n",
      "MAPE: 34.16%\n",
      "MSE: 783.5160\n"
     ]
    }
   ],
   "source": [
    "# CatBoost\n",
    "catboost_param_grid = {\n",
    "    'iterations': [200, 500],\n",
    "    'learning_rate': [0.01, 0.1, 0.2],\n",
    "    'depth': [4, 6, 8]\n",
    "}\n",
    "catboost_model = CatBoostRegressor(random_state=42, verbose=0)\n",
    "best_catboost = train_and_evaluate_model(catboost_model, catboost_param_grid, X_train_scaled, y_train, X_test_scaled, y_test, \"CatBoost\")"
   ]
  },
  {
   "cell_type": "code",
   "execution_count": null,
   "id": "f610adf9-785a-4d5b-bfe3-0aaced5ec19a",
   "metadata": {},
   "outputs": [],
   "source": []
  }
 ],
 "metadata": {
  "kernelspec": {
   "display_name": "Python 3 (ipykernel)",
   "language": "python",
   "name": "python3"
  },
  "language_info": {
   "codemirror_mode": {
    "name": "ipython",
    "version": 3
   },
   "file_extension": ".py",
   "mimetype": "text/x-python",
   "name": "python",
   "nbconvert_exporter": "python",
   "pygments_lexer": "ipython3",
   "version": "3.11.5"
  }
 },
 "nbformat": 4,
 "nbformat_minor": 5
}

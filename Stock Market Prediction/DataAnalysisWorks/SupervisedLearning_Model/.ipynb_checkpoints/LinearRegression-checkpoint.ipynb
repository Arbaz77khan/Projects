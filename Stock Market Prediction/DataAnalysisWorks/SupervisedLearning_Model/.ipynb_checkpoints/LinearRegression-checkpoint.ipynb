{
 "cells": [
  {
   "cell_type": "code",
   "execution_count": 44,
   "id": "40df0492-dd02-4891-9a3f-f9d0134b15a4",
   "metadata": {},
   "outputs": [],
   "source": [
    "import pandas as pd \n",
    "from itertools import combinations\n",
    "from sklearn.preprocessing import StandardScaler\n",
    "from sklearn.linear_model import LinearRegression\n",
    "from sklearn.metrics import mean_absolute_error, mean_squared_error, r2_score"
   ]
  },
  {
   "cell_type": "code",
   "execution_count": 45,
   "id": "a4c14858-7f2f-4245-9149-8bc17271d44a",
   "metadata": {},
   "outputs": [],
   "source": [
    "data = pd.read_csv('D:\\Master_Folder\\Data Science Course\\Projects\\StockMarket\\stock_data\\SUZLON.NS_2023-01-01_to_2024-11-21_ML.csv')"
   ]
  },
  {
   "cell_type": "code",
   "execution_count": 46,
   "id": "f4a6ddde-779f-49a8-a9b7-203f308bd8f1",
   "metadata": {},
   "outputs": [
    {
     "name": "stderr",
     "output_type": "stream",
     "text": [
      "C:\\Users\\Arbaz Khan\\AppData\\Local\\Temp\\ipykernel_6336\\1887270223.py:1: UserWarning: Parsing dates in %Y-%m-%d format when dayfirst=True was specified. Pass `dayfirst=False` or specify a format to silence this warning.\n",
      "  data['Date'] = pd.to_datetime(data['Date'], dayfirst=True)\n"
     ]
    }
   ],
   "source": [
    "data['Date'] = pd.to_datetime(data['Date'], dayfirst=True)\n",
    "data.set_index('Date', inplace=True)\n"
   ]
  },
  {
   "cell_type": "code",
   "execution_count": 47,
   "id": "dfee809b-86d4-4385-9972-24f94ad0444b",
   "metadata": {},
   "outputs": [],
   "source": [
    "data['Next_1_day_close'] = data['Close'].shift(-1)\n",
    "data.dropna(inplace=True)"
   ]
  },
  {
   "cell_type": "code",
   "execution_count": 48,
   "id": "9dab4df5-2eda-4f6d-b181-b0ffd8ece0ec",
   "metadata": {},
   "outputs": [
    {
     "data": {
      "text/html": [
       "<div>\n",
       "<style scoped>\n",
       "    .dataframe tbody tr th:only-of-type {\n",
       "        vertical-align: middle;\n",
       "    }\n",
       "\n",
       "    .dataframe tbody tr th {\n",
       "        vertical-align: top;\n",
       "    }\n",
       "\n",
       "    .dataframe thead th {\n",
       "        text-align: right;\n",
       "    }\n",
       "</style>\n",
       "<table border=\"1\" class=\"dataframe\">\n",
       "  <thead>\n",
       "    <tr style=\"text-align: right;\">\n",
       "      <th></th>\n",
       "      <th>Close</th>\n",
       "      <th>Weekday_angle</th>\n",
       "      <th>Month_angle</th>\n",
       "      <th>Temporal_Features</th>\n",
       "      <th>Next_1_day_close</th>\n",
       "    </tr>\n",
       "    <tr>\n",
       "      <th>Date</th>\n",
       "      <th></th>\n",
       "      <th></th>\n",
       "      <th></th>\n",
       "      <th></th>\n",
       "      <th></th>\n",
       "    </tr>\n",
       "  </thead>\n",
       "  <tbody>\n",
       "    <tr>\n",
       "      <th>2023-03-17</th>\n",
       "      <td>8.00</td>\n",
       "      <td>-1.256637</td>\n",
       "      <td>1.570796</td>\n",
       "      <td>1.366827</td>\n",
       "      <td>7.75</td>\n",
       "    </tr>\n",
       "    <tr>\n",
       "      <th>2023-03-20</th>\n",
       "      <td>7.75</td>\n",
       "      <td>0.000000</td>\n",
       "      <td>1.570796</td>\n",
       "      <td>1.411810</td>\n",
       "      <td>7.80</td>\n",
       "    </tr>\n",
       "    <tr>\n",
       "      <th>2023-03-21</th>\n",
       "      <td>7.80</td>\n",
       "      <td>1.256637</td>\n",
       "      <td>1.570796</td>\n",
       "      <td>1.456793</td>\n",
       "      <td>7.80</td>\n",
       "    </tr>\n",
       "    <tr>\n",
       "      <th>2023-03-22</th>\n",
       "      <td>7.80</td>\n",
       "      <td>2.513274</td>\n",
       "      <td>1.570796</td>\n",
       "      <td>1.501776</td>\n",
       "      <td>7.75</td>\n",
       "    </tr>\n",
       "    <tr>\n",
       "      <th>2023-03-23</th>\n",
       "      <td>7.75</td>\n",
       "      <td>-2.513274</td>\n",
       "      <td>1.570796</td>\n",
       "      <td>1.321844</td>\n",
       "      <td>7.55</td>\n",
       "    </tr>\n",
       "  </tbody>\n",
       "</table>\n",
       "</div>"
      ],
      "text/plain": [
       "            Close  Weekday_angle  Month_angle  Temporal_Features  \\\n",
       "Date                                                               \n",
       "2023-03-17   8.00      -1.256637     1.570796           1.366827   \n",
       "2023-03-20   7.75       0.000000     1.570796           1.411810   \n",
       "2023-03-21   7.80       1.256637     1.570796           1.456793   \n",
       "2023-03-22   7.80       2.513274     1.570796           1.501776   \n",
       "2023-03-23   7.75      -2.513274     1.570796           1.321844   \n",
       "\n",
       "            Next_1_day_close  \n",
       "Date                          \n",
       "2023-03-17              7.75  \n",
       "2023-03-20              7.80  \n",
       "2023-03-21              7.80  \n",
       "2023-03-22              7.75  \n",
       "2023-03-23              7.55  "
      ]
     },
     "execution_count": 48,
     "metadata": {},
     "output_type": "execute_result"
    }
   ],
   "source": [
    "data.head()"
   ]
  },
  {
   "cell_type": "code",
   "execution_count": 49,
   "id": "d5c1bc94-4d32-4b9d-8a4a-8495ededcaf3",
   "metadata": {},
   "outputs": [],
   "source": [
    "def evaluate_feature_combinations(data, target_col, test_ratio=0.3):\n",
    "    result = []\n",
    "\n",
    "    features = [col for col in data.columns if col != target_col]\n",
    "    target = data[target_col]\n",
    "\n",
    "    train_size = int(len(data) * (1 - test_ratio))\n",
    "    train_data = data[:train_size]\n",
    "    test_data = data[train_size:]\n",
    "\n",
    "    x_train_full = train_data[features]\n",
    "    y_train = train_data[target_col]\n",
    "    x_test_full = test_data[features]\n",
    "    y_test = test_data[target_col]\n",
    "\n",
    "    for r in range(1, len(features) + 1):\n",
    "        for feature_subset in combinations(features, r):\n",
    "            feature_subset = list(feature_subset)\n",
    "\n",
    "            # Scale features\n",
    "            scaler = StandardScaler()\n",
    "            x_train = scaler.fit_transform(x_train_full[feature_subset])\n",
    "            x_test = scaler.transform(x_test_full[feature_subset])\n",
    "            \n",
    "            model = LinearRegression()\n",
    "            model.fit(x_train, y_train)\n",
    "\n",
    "            y_pred = model.predict(x_test)\n",
    "\n",
    "            mse = mean_squared_error(y_test, y_pred)\n",
    "            r2 = r2_score(y_test, y_pred)\n",
    "            mape = mape = (abs((y_test - y_pred) / y_test).mean()) * 100\n",
    "\n",
    "            result.append({'Features': feature_subset, 'mse': mse, 'R2': r2, 'MAPE': mape})\n",
    "\n",
    "    sorted_results = sorted(result, key=lambda x: x['R2'], reverse=True)\n",
    "\n",
    "    return sorted_results"
   ]
  },
  {
   "cell_type": "code",
   "execution_count": 50,
   "id": "e14cdb9d-4ebe-4006-b083-a785bfa9b3bb",
   "metadata": {},
   "outputs": [],
   "source": [
    "results = evaluate_feature_combinations(data, target_col = 'Next_1_day_close')"
   ]
  },
  {
   "cell_type": "code",
   "execution_count": 51,
   "id": "1e04fd3c-cdc4-4ee5-9386-82cded17a407",
   "metadata": {},
   "outputs": [
    {
     "name": "stdout",
     "output_type": "stream",
     "text": [
      "Rank 1:\n",
      "Features: ['Close', 'Month_angle']\n",
      "R²: 0.9733, MAPE: 2.40%, MSE: 3.7773\n",
      "\n",
      "Rank 2:\n",
      "Features: ['Close', 'Temporal_Features']\n",
      "R²: 0.9733, MAPE: 2.40%, MSE: 3.7785\n",
      "\n",
      "Rank 3:\n",
      "Features: ['Close']\n",
      "R²: 0.9733, MAPE: 2.40%, MSE: 3.7843\n",
      "\n",
      "Rank 4:\n",
      "Features: ['Close', 'Weekday_angle', 'Month_angle']\n",
      "R²: 0.9732, MAPE: 2.40%, MSE: 3.7910\n",
      "\n",
      "Rank 5:\n",
      "Features: ['Close', 'Weekday_angle', 'Temporal_Features']\n",
      "R²: 0.9732, MAPE: 2.40%, MSE: 3.7910\n",
      "\n",
      "Rank 6:\n",
      "Features: ['Close', 'Month_angle', 'Temporal_Features']\n",
      "R²: 0.9732, MAPE: 2.40%, MSE: 3.7910\n",
      "\n",
      "Rank 7:\n",
      "Features: ['Close', 'Weekday_angle', 'Month_angle', 'Temporal_Features']\n",
      "R²: 0.9732, MAPE: 2.40%, MSE: 3.7910\n",
      "\n",
      "Rank 8:\n",
      "Features: ['Close', 'Weekday_angle']\n",
      "R²: 0.9732, MAPE: 2.40%, MSE: 3.7981\n",
      "\n",
      "Rank 9:\n",
      "Features: ['Temporal_Features']\n",
      "R²: -9.6439, MAPE: 54.81%, MSE: 1505.8214\n",
      "\n",
      "Rank 10:\n",
      "Features: ['Weekday_angle', 'Month_angle']\n",
      "R²: -9.6448, MAPE: 54.81%, MSE: 1505.9417\n",
      "\n"
     ]
    }
   ],
   "source": [
    "for i, res in enumerate(results[:10], 1):\n",
    "    print(f\"Rank {i}:\")\n",
    "    print(f\"Features: {res['Features']}\")\n",
    "    print(f\"R²: {res['R2']:.4f}, MAPE: {res['MAPE']:.2f}%, MSE: {res['mse']:.4f}\\n\")"
   ]
  },
  {
   "cell_type": "code",
   "execution_count": null,
   "id": "53fd331e-62b7-433d-bab2-d65c1c449037",
   "metadata": {},
   "outputs": [],
   "source": []
  }
 ],
 "metadata": {
  "kernelspec": {
   "display_name": "Python 3 (ipykernel)",
   "language": "python",
   "name": "python3"
  },
  "language_info": {
   "codemirror_mode": {
    "name": "ipython",
    "version": 3
   },
   "file_extension": ".py",
   "mimetype": "text/x-python",
   "name": "python",
   "nbconvert_exporter": "python",
   "pygments_lexer": "ipython3",
   "version": "3.11.5"
  }
 },
 "nbformat": 4,
 "nbformat_minor": 5
}

{
 "cells": [
  {
   "cell_type": "code",
   "execution_count": 1,
   "id": "b27565eb-fed2-4a29-ad3c-00ccebb31096",
   "metadata": {},
   "outputs": [],
   "source": [
    "import pandas as pd"
   ]
  },
  {
   "cell_type": "code",
   "execution_count": 2,
   "id": "3747caf3-e705-40f9-b921-829e8715fd8a",
   "metadata": {},
   "outputs": [],
   "source": [
    "import tweepy\n",
    "from vaderSentiment.vaderSentiment import SentimentIntensityAnalyzer\n",
    "import datetime\n",
    "import time"
   ]
  },
  {
   "cell_type": "code",
   "execution_count": 3,
   "id": "2b693fc8-471f-4dc8-a8ba-d77a71a320dd",
   "metadata": {},
   "outputs": [],
   "source": [
    "# Setting up Twitter API credentials\n",
    "\n",
    "api_key = '5EHtW9kM9sNsM9YQYKotF3v6a'\n",
    "api_key_secret = 'yf0jmTZAUDYPIaC5D8KwC41kmGwdwz6UoBemKlZf1XJlLwUTYA'\n",
    "access_token = '1856301676166053889-B6h2ygJW8rJBoBHjpnOGsmX0ivw0aM'\n",
    "access_token_secret = 'iGAd8LALDOQVBwnIcapXaIN1Dcr3St8CtcyyLFeLwDX3J'\n",
    "bearer_token = 'AAAAAAAAAAAAAAAAAAAAAMSzwwEAAAAABik0GwXyz5lQhNdWvDjw62rNl04%3DX3sdGdvbXx3MxN056Il3fAWUhn2IyJY2AIs1Ob8Ntz7ep8Sd47'\n",
    "\n",
    "# Authenticate with Twitter\n",
    "client = tweepy.Client(bearer_token=bearer_token)"
   ]
  },
  {
   "cell_type": "code",
   "execution_count": 4,
   "id": "fd58f13a-95f2-4285-9468-7f42816cfdb1",
   "metadata": {},
   "outputs": [],
   "source": [
    "# Initialize VADER sentiment Analyzer\n",
    "analyzer = SentimentIntensityAnalyzer()"
   ]
  },
  {
   "cell_type": "code",
   "execution_count": 5,
   "id": "89bd6f1f-e048-4d6d-bf20-171fb5d13c86",
   "metadata": {},
   "outputs": [],
   "source": [
    "# Define a function to get tweet sentiment\n",
    "def get_tweet_sentiment(tweet_text):\n",
    "    score = analyzer.polarity_scores(tweet_text)\n",
    "    return score['compound']"
   ]
  },
  {
   "cell_type": "code",
   "execution_count": 6,
   "id": "53382cad-ffb9-4050-a3f2-9c9ba473553a",
   "metadata": {},
   "outputs": [],
   "source": [
    "# Fetch tweets with a specified query and handle rate limit errors\n",
    "def fetch_tweets(stock_symbol, start_date, end_date, max_results=10):\n",
    "    query = f\"{stock_symbol} -is:retweet\"\n",
    "    data = []\n",
    "    \n",
    "    while True:\n",
    "        try:\n",
    "            # Fetch tweets from the Twitter API\n",
    "            tweets = client.search_recent_tweets(\n",
    "                query=query,\n",
    "                start_time=start_date,\n",
    "                end_time=end_date,\n",
    "                max_results=max_results,\n",
    "                tweet_fields=['created_at', 'text', 'lang']\n",
    "            )\n",
    "            \n",
    "            # Process each tweet\n",
    "            for tweet in tweets.data:\n",
    "                if tweet.lang == 'en':\n",
    "                    sentiment = get_tweet_sentiment(tweet.text)\n",
    "                    data.append({'date': tweet.created_at.date(), 'Tweet': tweet.text, 'Sentiment': sentiment})\n",
    "\n",
    "            # Return data as a DataFrame\n",
    "            return pd.DataFrame(data)\n",
    "        \n",
    "        except tweepy.TooManyRequests:\n",
    "            print(\"Rate limit hit. Waiting 1 minutes before retrying...\")\n",
    "            time.sleep(1 * 60)  # Wait for 15 minutes and retry\n",
    "        except Exception as e:\n",
    "            print(f\"An error occurred: {e}\")\n",
    "            break"
   ]
  },
  {
   "cell_type": "code",
   "execution_count": 7,
   "id": "40eccee1-9173-47d1-a6b8-eb455c810529",
   "metadata": {},
   "outputs": [
    {
     "name": "stdout",
     "output_type": "stream",
     "text": [
      "An error occurred: 400 Bad Request\n",
      "Invalid 'end_time':'2024-11-13T22:19Z'. 'end_time' must be a minimum of 10 seconds prior to the request time.\n"
     ]
    }
   ],
   "source": [
    "# Examlpe usage\n",
    "start_date = (datetime.datetime.now() - datetime.timedelta(days=7)).isoformat(\"T\") + \"Z\" # 7 days ago\n",
    "end_date = (datetime.datetime.now() - datetime.timedelta(days=1)).isoformat(\"T\") + \"Z\"  #Current date\n",
    "stock_symbol = \"$SUZLON\"\n",
    "\n",
    "# Fetch tweets and calculate sentiments\n",
    "tweet_df = fetch_tweets(stock_symbol, start_date, end_date)\n",
    "# tweet_df.head()"
   ]
  },
  {
   "cell_type": "code",
   "execution_count": null,
   "id": "5f5f4351-dcab-4b8f-8fdb-c1659e7ed4e6",
   "metadata": {},
   "outputs": [],
   "source": []
  }
 ],
 "metadata": {
  "kernelspec": {
   "display_name": "Python 3 (ipykernel)",
   "language": "python",
   "name": "python3"
  },
  "language_info": {
   "codemirror_mode": {
    "name": "ipython",
    "version": 3
   },
   "file_extension": ".py",
   "mimetype": "text/x-python",
   "name": "python",
   "nbconvert_exporter": "python",
   "pygments_lexer": "ipython3",
   "version": "3.11.5"
  }
 },
 "nbformat": 4,
 "nbformat_minor": 5
}

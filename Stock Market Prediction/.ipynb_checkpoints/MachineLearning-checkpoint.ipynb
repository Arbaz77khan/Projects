{
 "cells": [
  {
   "cell_type": "code",
   "execution_count": 1,
   "id": "b9d93737-d761-4fbe-8d99-9a9dac15c820",
   "metadata": {},
   "outputs": [],
   "source": [
    "import pandas as pd"
   ]
  },
  {
   "cell_type": "code",
   "execution_count": 3,
   "id": "343c05b2-9ed1-48a8-a22d-5af526fa718d",
   "metadata": {},
   "outputs": [],
   "source": [
    "data = pd.read_csv('D:\\Master_Folder\\Data Science Course\\Projects\\StockMarket\\stock_data\\SUZLON.NS_2023-01-01_to_2024-11-21.csv', usecols=['Date', 'Day', 'Weekday', 'Month', 'Year', 'Adj Close', 'Adj_Close_Lag_1', 'Adj_Close_Lag_2', 'Adj_Close_Lag_3', 'Upward_Downward_Probability'])"
   ]
  },
  {
   "cell_type": "code",
   "execution_count": 4,
   "id": "0048d5a8-e0a1-44fc-a4b0-2eff84c85ec6",
   "metadata": {},
   "outputs": [
    {
     "data": {
      "text/html": [
       "<div>\n",
       "<style scoped>\n",
       "    .dataframe tbody tr th:only-of-type {\n",
       "        vertical-align: middle;\n",
       "    }\n",
       "\n",
       "    .dataframe tbody tr th {\n",
       "        vertical-align: top;\n",
       "    }\n",
       "\n",
       "    .dataframe thead th {\n",
       "        text-align: right;\n",
       "    }\n",
       "</style>\n",
       "<table border=\"1\" class=\"dataframe\">\n",
       "  <thead>\n",
       "    <tr style=\"text-align: right;\">\n",
       "      <th></th>\n",
       "      <th>Date</th>\n",
       "      <th>Day</th>\n",
       "      <th>Weekday</th>\n",
       "      <th>Month</th>\n",
       "      <th>Year</th>\n",
       "      <th>Adj Close</th>\n",
       "      <th>Adj_Close_Lag_1</th>\n",
       "      <th>Adj_Close_Lag_2</th>\n",
       "      <th>Adj_Close_Lag_3</th>\n",
       "      <th>Upward_Downward_Probability</th>\n",
       "    </tr>\n",
       "  </thead>\n",
       "  <tbody>\n",
       "    <tr>\n",
       "      <th>0</th>\n",
       "      <td>2023-03-17</td>\n",
       "      <td>17</td>\n",
       "      <td>4</td>\n",
       "      <td>3</td>\n",
       "      <td>2023</td>\n",
       "      <td>8.00</td>\n",
       "      <td>7.90</td>\n",
       "      <td>7.95</td>\n",
       "      <td>7.95</td>\n",
       "      <td>-2.639057</td>\n",
       "    </tr>\n",
       "    <tr>\n",
       "      <th>1</th>\n",
       "      <td>2023-03-20</td>\n",
       "      <td>20</td>\n",
       "      <td>0</td>\n",
       "      <td>3</td>\n",
       "      <td>2023</td>\n",
       "      <td>7.75</td>\n",
       "      <td>8.00</td>\n",
       "      <td>7.90</td>\n",
       "      <td>7.95</td>\n",
       "      <td>-2.639057</td>\n",
       "    </tr>\n",
       "    <tr>\n",
       "      <th>2</th>\n",
       "      <td>2023-03-21</td>\n",
       "      <td>21</td>\n",
       "      <td>1</td>\n",
       "      <td>3</td>\n",
       "      <td>2023</td>\n",
       "      <td>7.80</td>\n",
       "      <td>7.75</td>\n",
       "      <td>8.00</td>\n",
       "      <td>7.90</td>\n",
       "      <td>-2.639057</td>\n",
       "    </tr>\n",
       "    <tr>\n",
       "      <th>3</th>\n",
       "      <td>2023-03-22</td>\n",
       "      <td>22</td>\n",
       "      <td>2</td>\n",
       "      <td>3</td>\n",
       "      <td>2023</td>\n",
       "      <td>7.80</td>\n",
       "      <td>7.80</td>\n",
       "      <td>7.75</td>\n",
       "      <td>8.00</td>\n",
       "      <td>-2.639057</td>\n",
       "    </tr>\n",
       "    <tr>\n",
       "      <th>4</th>\n",
       "      <td>2023-03-23</td>\n",
       "      <td>23</td>\n",
       "      <td>3</td>\n",
       "      <td>3</td>\n",
       "      <td>2023</td>\n",
       "      <td>7.75</td>\n",
       "      <td>7.80</td>\n",
       "      <td>7.80</td>\n",
       "      <td>7.75</td>\n",
       "      <td>-2.639057</td>\n",
       "    </tr>\n",
       "  </tbody>\n",
       "</table>\n",
       "</div>"
      ],
      "text/plain": [
       "         Date  Day  Weekday  Month  Year  Adj Close  Adj_Close_Lag_1  \\\n",
       "0  2023-03-17   17        4      3  2023       8.00             7.90   \n",
       "1  2023-03-20   20        0      3  2023       7.75             8.00   \n",
       "2  2023-03-21   21        1      3  2023       7.80             7.75   \n",
       "3  2023-03-22   22        2      3  2023       7.80             7.80   \n",
       "4  2023-03-23   23        3      3  2023       7.75             7.80   \n",
       "\n",
       "   Adj_Close_Lag_2  Adj_Close_Lag_3  Upward_Downward_Probability  \n",
       "0             7.95             7.95                    -2.639057  \n",
       "1             7.90             7.95                    -2.639057  \n",
       "2             8.00             7.90                    -2.639057  \n",
       "3             7.75             8.00                    -2.639057  \n",
       "4             7.80             7.75                    -2.639057  "
      ]
     },
     "execution_count": 4,
     "metadata": {},
     "output_type": "execute_result"
    }
   ],
   "source": [
    "data.head()"
   ]
  },
  {
   "cell_type": "code",
   "execution_count": 5,
   "id": "3d47b9f8-1c0d-429e-91b3-dd517b626682",
   "metadata": {},
   "outputs": [
    {
     "name": "stdout",
     "output_type": "stream",
     "text": [
      "<class 'pandas.core.frame.DataFrame'>\n",
      "RangeIndex: 411 entries, 0 to 410\n",
      "Data columns (total 10 columns):\n",
      " #   Column                       Non-Null Count  Dtype  \n",
      "---  ------                       --------------  -----  \n",
      " 0   Date                         411 non-null    object \n",
      " 1   Day                          411 non-null    int64  \n",
      " 2   Weekday                      411 non-null    int64  \n",
      " 3   Month                        411 non-null    int64  \n",
      " 4   Year                         411 non-null    int64  \n",
      " 5   Adj Close                    411 non-null    float64\n",
      " 6   Adj_Close_Lag_1              411 non-null    float64\n",
      " 7   Adj_Close_Lag_2              411 non-null    float64\n",
      " 8   Adj_Close_Lag_3              411 non-null    float64\n",
      " 9   Upward_Downward_Probability  411 non-null    float64\n",
      "dtypes: float64(5), int64(4), object(1)\n",
      "memory usage: 32.2+ KB\n"
     ]
    }
   ],
   "source": [
    "data.info()"
   ]
  },
  {
   "cell_type": "code",
   "execution_count": 6,
   "id": "debcf6a3-c325-4cb8-a551-b5a41027af37",
   "metadata": {},
   "outputs": [
    {
     "name": "stderr",
     "output_type": "stream",
     "text": [
      "C:\\Users\\Arbaz Khan\\AppData\\Local\\Temp\\ipykernel_33692\\2675603959.py:1: UserWarning: Parsing dates in %Y-%m-%d format when dayfirst=True was specified. Pass `dayfirst=False` or specify a format to silence this warning.\n",
      "  data['Date'] = pd.to_datetime(data['Date'], dayfirst=True)\n"
     ]
    }
   ],
   "source": [
    "data['Date'] = pd.to_datetime(data['Date'], dayfirst=True)\n",
    "data.set_index('Date', inplace=True)"
   ]
  },
  {
   "cell_type": "code",
   "execution_count": 10,
   "id": "b84a117a-4172-4599-96b0-662caa28af44",
   "metadata": {},
   "outputs": [
    {
     "name": "stdout",
     "output_type": "stream",
     "text": [
      "<class 'pandas.core.frame.DataFrame'>\n",
      "DatetimeIndex: 411 entries, 2023-03-17 to 2024-11-19\n",
      "Data columns (total 9 columns):\n",
      " #   Column                       Non-Null Count  Dtype  \n",
      "---  ------                       --------------  -----  \n",
      " 0   Day                          411 non-null    int64  \n",
      " 1   Weekday                      411 non-null    int64  \n",
      " 2   Month                        411 non-null    int64  \n",
      " 3   Year                         411 non-null    int64  \n",
      " 4   Adj Close                    411 non-null    float64\n",
      " 5   Adj_Close_Lag_1              411 non-null    float64\n",
      " 6   Adj_Close_Lag_2              411 non-null    float64\n",
      " 7   Adj_Close_Lag_3              411 non-null    float64\n",
      " 8   Upward_Downward_Probability  411 non-null    float64\n",
      "dtypes: float64(5), int64(4)\n",
      "memory usage: 32.1 KB\n"
     ]
    }
   ],
   "source": [
    "data.info()"
   ]
  },
  {
   "cell_type": "code",
   "execution_count": 11,
   "id": "80f4fd20-d80c-4f56-b655-5699fd7fb515",
   "metadata": {},
   "outputs": [
    {
     "data": {
      "text/html": [
       "<div>\n",
       "<style scoped>\n",
       "    .dataframe tbody tr th:only-of-type {\n",
       "        vertical-align: middle;\n",
       "    }\n",
       "\n",
       "    .dataframe tbody tr th {\n",
       "        vertical-align: top;\n",
       "    }\n",
       "\n",
       "    .dataframe thead th {\n",
       "        text-align: right;\n",
       "    }\n",
       "</style>\n",
       "<table border=\"1\" class=\"dataframe\">\n",
       "  <thead>\n",
       "    <tr style=\"text-align: right;\">\n",
       "      <th></th>\n",
       "      <th>Day</th>\n",
       "      <th>Weekday</th>\n",
       "      <th>Month</th>\n",
       "      <th>Year</th>\n",
       "      <th>Adj Close</th>\n",
       "      <th>Adj_Close_Lag_1</th>\n",
       "      <th>Adj_Close_Lag_2</th>\n",
       "      <th>Adj_Close_Lag_3</th>\n",
       "      <th>Upward_Downward_Probability</th>\n",
       "    </tr>\n",
       "    <tr>\n",
       "      <th>Date</th>\n",
       "      <th></th>\n",
       "      <th></th>\n",
       "      <th></th>\n",
       "      <th></th>\n",
       "      <th></th>\n",
       "      <th></th>\n",
       "      <th></th>\n",
       "      <th></th>\n",
       "      <th></th>\n",
       "    </tr>\n",
       "  </thead>\n",
       "  <tbody>\n",
       "    <tr>\n",
       "      <th>2023-03-17</th>\n",
       "      <td>17</td>\n",
       "      <td>4</td>\n",
       "      <td>3</td>\n",
       "      <td>2023</td>\n",
       "      <td>8.00</td>\n",
       "      <td>7.90</td>\n",
       "      <td>7.95</td>\n",
       "      <td>7.95</td>\n",
       "      <td>-2.639057</td>\n",
       "    </tr>\n",
       "    <tr>\n",
       "      <th>2023-03-20</th>\n",
       "      <td>20</td>\n",
       "      <td>0</td>\n",
       "      <td>3</td>\n",
       "      <td>2023</td>\n",
       "      <td>7.75</td>\n",
       "      <td>8.00</td>\n",
       "      <td>7.90</td>\n",
       "      <td>7.95</td>\n",
       "      <td>-2.639057</td>\n",
       "    </tr>\n",
       "    <tr>\n",
       "      <th>2023-03-21</th>\n",
       "      <td>21</td>\n",
       "      <td>1</td>\n",
       "      <td>3</td>\n",
       "      <td>2023</td>\n",
       "      <td>7.80</td>\n",
       "      <td>7.75</td>\n",
       "      <td>8.00</td>\n",
       "      <td>7.90</td>\n",
       "      <td>-2.639057</td>\n",
       "    </tr>\n",
       "    <tr>\n",
       "      <th>2023-03-22</th>\n",
       "      <td>22</td>\n",
       "      <td>2</td>\n",
       "      <td>3</td>\n",
       "      <td>2023</td>\n",
       "      <td>7.80</td>\n",
       "      <td>7.80</td>\n",
       "      <td>7.75</td>\n",
       "      <td>8.00</td>\n",
       "      <td>-2.639057</td>\n",
       "    </tr>\n",
       "    <tr>\n",
       "      <th>2023-03-23</th>\n",
       "      <td>23</td>\n",
       "      <td>3</td>\n",
       "      <td>3</td>\n",
       "      <td>2023</td>\n",
       "      <td>7.75</td>\n",
       "      <td>7.80</td>\n",
       "      <td>7.80</td>\n",
       "      <td>7.75</td>\n",
       "      <td>-2.639057</td>\n",
       "    </tr>\n",
       "  </tbody>\n",
       "</table>\n",
       "</div>"
      ],
      "text/plain": [
       "            Day  Weekday  Month  Year  Adj Close  Adj_Close_Lag_1  \\\n",
       "Date                                                                \n",
       "2023-03-17   17        4      3  2023       8.00             7.90   \n",
       "2023-03-20   20        0      3  2023       7.75             8.00   \n",
       "2023-03-21   21        1      3  2023       7.80             7.75   \n",
       "2023-03-22   22        2      3  2023       7.80             7.80   \n",
       "2023-03-23   23        3      3  2023       7.75             7.80   \n",
       "\n",
       "            Adj_Close_Lag_2  Adj_Close_Lag_3  Upward_Downward_Probability  \n",
       "Date                                                                       \n",
       "2023-03-17             7.95             7.95                    -2.639057  \n",
       "2023-03-20             7.90             7.95                    -2.639057  \n",
       "2023-03-21             8.00             7.90                    -2.639057  \n",
       "2023-03-22             7.75             8.00                    -2.639057  \n",
       "2023-03-23             7.80             7.75                    -2.639057  "
      ]
     },
     "execution_count": 11,
     "metadata": {},
     "output_type": "execute_result"
    }
   ],
   "source": [
    "data.head()"
   ]
  },
  {
   "cell_type": "code",
   "execution_count": null,
   "id": "fc86506f-d612-4bc4-a687-64b4126e3f67",
   "metadata": {},
   "outputs": [],
   "source": [
    "Data.to"
   ]
  }
 ],
 "metadata": {
  "kernelspec": {
   "display_name": "Python 3 (ipykernel)",
   "language": "python",
   "name": "python3"
  },
  "language_info": {
   "codemirror_mode": {
    "name": "ipython",
    "version": 3
   },
   "file_extension": ".py",
   "mimetype": "text/x-python",
   "name": "python",
   "nbconvert_exporter": "python",
   "pygments_lexer": "ipython3",
   "version": "3.11.5"
  }
 },
 "nbformat": 4,
 "nbformat_minor": 5
}
